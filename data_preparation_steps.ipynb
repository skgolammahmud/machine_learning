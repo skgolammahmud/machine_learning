{
  "nbformat": 4,
  "nbformat_minor": 0,
  "metadata": {
    "colab": {
      "provenance": []
    },
    "kernelspec": {
      "name": "python3",
      "display_name": "Python 3"
    },
    "language_info": {
      "name": "python"
    }
  },
  "cells": [
    {
      "cell_type": "markdown",
      "source": [
        "# 🔑 Main Steps of Data Preparation\n",
        "\n",
        "### 1. Checking and Removing Duplicate Data\n",
        "\n",
        "        → Sometimes the same records appear multiple times — removing those duplicates is necessary.\n",
        "\n",
        "### 2. Handling Missing Values\n",
        "\n",
        "        → Data may contain empty or missing values. These can be handled by:\n",
        "              • Deleting rows with missing values\n",
        "              • Filling missing values (e.g., using mean or median)\n",
        "              • Keeping them (if the dataset is large and missing values are very few)\n",
        "\n",
        "### 3. Removing Noise or Unnecessary Features\n",
        "\n",
        "        → Features that do not contribute to prediction should be removed.\n",
        "\n",
        "### 4. Fixing Feature Format\n",
        "\n",
        "        → Ensuring numeric columns contain only numbers.\n",
        "        → For image datasets, ensuring all images are in the correct format (such as JPG or PNG).\n",
        "\n",
        "### 5. Encoding Categorical Data\n",
        "\n",
        "        → Example: converting “male” / “female” → 0 / 1\n",
        "\n",
        "### 6. Creating New Features (Feature Engineering)\n",
        "\n",
        "        → A creative process that can significantly improve model performance when done effectively.\n",
        "\n",
        "### 7. Scaling or Normalizing Data\n",
        "\n",
        "        → Large numeric values can affect model training.\n",
        "              • **Normalizing:** bringing all values between 0 and 1\n",
        "              • **Standardizing:** adjusting data so that mean = 0 and standard deviation = 1\n",
        "\n",
        "### 8. Shuffling and Splitting the Dataset\n",
        "\n",
        "        → Randomizing the dataset\n",
        "        → Dividing it into Training, Validation, and Testing sets\n"
      ],
      "metadata": {
        "id": "a27f36kff4Ek"
      }
    }
  ]
}